{
  "nbformat": 4,
  "nbformat_minor": 0,
  "metadata": {
    "colab": {
      "name": "Untitled2.ipynb",
      "version": "0.3.2",
      "provenance": [],
      "collapsed_sections": []
    },
    "kernelspec": {
      "name": "python3",
      "display_name": "Python 3"
    }
  },
  "cells": [
    {
      "cell_type": "code",
      "metadata": {
        "id": "vpfBvDJvzO_J",
        "colab_type": "code",
        "colab": {}
      },
      "source": [
        "import pyspark\n",
        "import re, os.path, time\n",
        "from pyspark import SparkContext\n",
        "\n",
        "from google.colab import drive\n",
        "drive.mount('/content/drive')"
      ],
      "execution_count": 0,
      "outputs": []
    },
    {
      "cell_type": "code",
      "metadata": {
        "id": "P2n13Voh4uga",
        "colab_type": "code",
        "colab": {
          "base_uri": "https://localhost:8080/",
          "height": 69
        },
        "outputId": "46ab1116-fc9b-4c99-f633-b7768a92aec3"
      },
      "source": [
        "def install_java():\n",
        "  !apt-get install -y openjdk-8-jdk-headless -qq > /dev/null\n",
        "  os.environ[\"JAVA_HOME\"] = \"/usr/lib/jvm/java-8-openjdk-amd64\"\n",
        "  !java -version\n",
        "install_java()"
      ],
      "execution_count": 2,
      "outputs": [
        {
          "output_type": "stream",
          "text": [
            "openjdk version \"11.0.3\" 2019-04-16\n",
            "OpenJDK Runtime Environment (build 11.0.3+7-Ubuntu-1ubuntu218.04.1)\n",
            "OpenJDK 64-Bit Server VM (build 11.0.3+7-Ubuntu-1ubuntu218.04.1, mixed mode, sharing)\n"
          ],
          "name": "stdout"
        }
      ]
    },
    {
      "cell_type": "code",
      "metadata": {
        "id": "Fl4Voig4zRYG",
        "colab_type": "code",
        "colab": {}
      },
      "source": [
        "sc = SparkContext()"
      ],
      "execution_count": 0,
      "outputs": []
    },
    {
      "cell_type": "code",
      "metadata": {
        "id": "c5r23C8MzVWT",
        "colab_type": "code",
        "colab": {}
      },
      "source": [
        "def removePunctuation(text):\n",
        "  return re.sub(r'[^a-z0-9\\s]', '', text.lower().strip())\n",
        "  # or\n",
        "  text = text.lower().strip()\n",
        "  return text.translate(str.maketrans(\"\",\"\",string.punctuation))\n",
        "shakespeareRDD = (sc.textFile('/content/drive/My Drive/input.txt', 8).map(removePunctuation))"
      ],
      "execution_count": 0,
      "outputs": []
    },
    {
      "cell_type": "code",
      "metadata": {
        "id": "eS5XXneozgRz",
        "colab_type": "code",
        "colab": {}
      },
      "source": [
        "shakespeareWordsRDD = shakespeareRDD.flatMap(lambda line: line.split())\n",
        "shakeWordsRDD = shakespeareWordsRDD.filter(lambda word: len(word) > 0)\n"
      ],
      "execution_count": 0,
      "outputs": []
    },
    {
      "cell_type": "code",
      "metadata": {
        "id": "R_aLOm442GKw",
        "colab_type": "code",
        "colab": {}
      },
      "source": [
        "def wordCount(shakeWordsRDD):\n",
        "  a = shakeWordsRDD.map(lambda x: (x,1)).reduceByKey(lambda x,y: x+y)\n",
        "  return a"
      ],
      "execution_count": 0,
      "outputs": []
    },
    {
      "cell_type": "code",
      "metadata": {
        "id": "wcqkkI33zkic",
        "colab_type": "code",
        "colab": {
          "base_uri": "https://localhost:8080/",
          "height": 364
        },
        "outputId": "76987d79-51a1-4741-8a1f-4934eb489484"
      },
      "source": [
        "top20WordsAndCounts = wordCount(shakeWordsRDD).takeOrdered(20, key=lambda x: -x[1])\n",
        "print('\\n'.join(map(lambda x: '{0}: {1}'.format(x[0], x[1]), top20WordsAndCounts)))\n",
        "\n",
        "# elapsed_time = time.time() - start_time\n",
        "# print(\"\\nDone! Elapsed time: \" + str(elapsed_time) + \" seconds.\")\n"
      ],
      "execution_count": 7,
      "outputs": [
        {
          "output_type": "stream",
          "text": [
            "the: 27825\n",
            "and: 26791\n",
            "i: 20681\n",
            "to: 19261\n",
            "of: 18289\n",
            "a: 14667\n",
            "you: 13716\n",
            "my: 12481\n",
            "that: 11135\n",
            "in: 11027\n",
            "is: 9621\n",
            "not: 8745\n",
            "for: 8261\n",
            "with: 8046\n",
            "me: 7769\n",
            "it: 7703\n",
            "be: 7106\n",
            "this: 6894\n",
            "your: 6889\n",
            "his: 6857\n"
          ],
          "name": "stdout"
        }
      ]
    }
  ]
}